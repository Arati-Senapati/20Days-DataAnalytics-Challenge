{
 "cells": [
  {
   "cell_type": "code",
   "execution_count": 7,
   "id": "07b20b1a-dd01-432d-ad83-0d37b10f504a",
   "metadata": {},
   "outputs": [
    {
     "name": "stdout",
     "output_type": "stream",
     "text": [
      "[20 30 40]\n",
      "[60 70 80]\n",
      "[ 80 100 120]\n",
      "[20 30 40]\n",
      "[60 70 80]\n",
      "[1200 2100 3200]\n",
      "[20 30 40]\n",
      "[4]\n",
      "[ 80 120 160]\n"
     ]
    }
   ],
   "source": [
    "import numpy as np\n",
    "\n",
    "a = np.array([20,30,40])\n",
    "b = np.array([60,70,80])\n",
    "print(a)\n",
    "print(b)\n",
    "print(a+b)\n",
    "\n",
    "c = np.array([20,30,40])\n",
    "d = np.array([60,70,80])\n",
    "print(c)\n",
    "print(d)\n",
    "print(c*d)\n",
    "\n",
    "a = np.array([20,30,40])\n",
    "b = np.array([4])\n",
    "print(a)\n",
    "print(b)\n",
    "print(a*b)"
   ]
  },
  {
   "cell_type": "code",
   "execution_count": 1,
   "id": "2d798632-8920-4f33-a506-ec20106b6b17",
   "metadata": {},
   "outputs": [
    {
     "name": "stdout",
     "output_type": "stream",
     "text": [
      "[20, 30, 40, 50, 60, 70]\n"
     ]
    }
   ],
   "source": [
    "l1 =[20,30,40]\n",
    "l2 =[50,60,70]\n",
    "print(l1+l2)\n"
   ]
  },
  {
   "cell_type": "code",
   "execution_count": 4,
   "id": "0549719e-8cd1-4f5c-9692-151203797c52",
   "metadata": {},
   "outputs": [
    {
     "name": "stdout",
     "output_type": "stream",
     "text": [
      "[20, 30, 40, 20, 30, 40, 20, 30, 40, 20, 30, 40, 20, 30, 40]\n"
     ]
    }
   ],
   "source": [
    "l1 =[20,30,40]\n",
    "l2 =5\n",
    "print(l1*l2)"
   ]
  },
  {
   "cell_type": "code",
   "execution_count": 8,
   "id": "f6483e7d-566d-4c38-ab10-f8dc7db0c56f",
   "metadata": {},
   "outputs": [
    {
     "name": "stdout",
     "output_type": "stream",
     "text": [
      "['40' '50' '60']\n"
     ]
    }
   ],
   "source": [
    "a= np.array([40,50,\"60\"])\n",
    "print(a)\n"
   ]
  },
  {
   "cell_type": "code",
   "execution_count": null,
   "id": "f83eb59c-a5bf-41df-8d26-ec99567685ff",
   "metadata": {},
   "outputs": [],
   "source": []
  }
 ],
 "metadata": {
  "kernelspec": {
   "display_name": "Python 3 (ipykernel)",
   "language": "python",
   "name": "python3"
  },
  "language_info": {
   "codemirror_mode": {
    "name": "ipython",
    "version": 3
   },
   "file_extension": ".py",
   "mimetype": "text/x-python",
   "name": "python",
   "nbconvert_exporter": "python",
   "pygments_lexer": "ipython3",
   "version": "3.13.5"
  }
 },
 "nbformat": 4,
 "nbformat_minor": 5
}
