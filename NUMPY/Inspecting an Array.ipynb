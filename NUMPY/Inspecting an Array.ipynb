{
 "cells": [
  {
   "cell_type": "code",
   "execution_count": 2,
   "id": "e54bd885-0172-449f-af2f-d6989d01bfdf",
   "metadata": {},
   "outputs": [
    {
     "name": "stdout",
     "output_type": "stream",
     "text": [
      "[30 40 50 60]\n"
     ]
    }
   ],
   "source": [
    "import numpy as np \n",
    "\n",
    "a = [30,40,50,60]\n",
    "arr = np.array(a)\n",
    "print(arr)"
   ]
  },
  {
   "cell_type": "code",
   "execution_count": 3,
   "id": "4d5818dd-496d-46b5-ab12-0088f9b048d1",
   "metadata": {},
   "outputs": [
    {
     "name": "stdout",
     "output_type": "stream",
     "text": [
      "(4,)\n"
     ]
    }
   ],
   "source": [
    "print(arr.shape)"
   ]
  },
  {
   "cell_type": "code",
   "execution_count": 4,
   "id": "f77ed85c-12bc-43a3-9a98-365264630e92",
   "metadata": {},
   "outputs": [
    {
     "name": "stdout",
     "output_type": "stream",
     "text": [
      "4\n"
     ]
    }
   ],
   "source": [
    "print(len(arr))"
   ]
  },
  {
   "cell_type": "code",
   "execution_count": 5,
   "id": "80be0cf1-921e-441e-8d12-6586cfdb37db",
   "metadata": {},
   "outputs": [
    {
     "name": "stdout",
     "output_type": "stream",
     "text": [
      "4\n"
     ]
    }
   ],
   "source": [
    "print(np.size(arr))"
   ]
  },
  {
   "cell_type": "code",
   "execution_count": 6,
   "id": "d114d172-4e3e-4b73-8f8a-768c55928497",
   "metadata": {},
   "outputs": [
    {
     "name": "stdout",
     "output_type": "stream",
     "text": [
      "<class 'numpy.ndarray'>\n",
      "int64\n"
     ]
    }
   ],
   "source": [
    "print(type(arr))\n",
    "print(arr.dtype)"
   ]
  },
  {
   "cell_type": "code",
   "execution_count": 7,
   "id": "0df90efe-b2fe-4fa0-bab8-245cf9165666",
   "metadata": {},
   "outputs": [
    {
     "name": "stdout",
     "output_type": "stream",
     "text": [
      "[30. 40. 50. 60.]\n"
     ]
    }
   ],
   "source": [
    "print(arr.astype(float))"
   ]
  },
  {
   "cell_type": "code",
   "execution_count": 8,
   "id": "7321b0ab-a73d-4cb8-9d98-533b18401b49",
   "metadata": {},
   "outputs": [
    {
     "name": "stdout",
     "output_type": "stream",
     "text": [
      "['30' '40' '50' '60']\n"
     ]
    }
   ],
   "source": [
    "print(arr.astype(str))"
   ]
  },
  {
   "cell_type": "code",
   "execution_count": 11,
   "id": "20c86ac0-61a9-4869-8dd5-75db0c0f7310",
   "metadata": {},
   "outputs": [
    {
     "name": "stdout",
     "output_type": "stream",
     "text": [
      "[[ 30  40  50  60]\n",
      " [ 70  80  90 100]]\n",
      "(2, 4)\n",
      "2\n",
      "8\n",
      "<class 'numpy.ndarray'>\n",
      "int64\n",
      "[[ 30.  40.  50.  60.]\n",
      " [ 70.  80.  90. 100.]]\n"
     ]
    }
   ],
   "source": [
    "a = [[30,40,50,60],[70,80,90,100]]\n",
    "arr = np.array(a)\n",
    "print(arr)\n",
    "print(arr.shape)  #rows,column\n",
    "print(len(arr))   #number of nested value\n",
    "print(np.size(arr))  #number of element\n",
    "print(type(arr))  #datatype of variable\n",
    "print(arr.dtype)  #datatype of array\n",
    "print(arr.astype(float)) #conversin of datatype"
   ]
  },
  {
   "cell_type": "code",
   "execution_count": null,
   "id": "1fc0cd53-696d-49f1-8553-dbc59c052e19",
   "metadata": {},
   "outputs": [],
   "source": []
  }
 ],
 "metadata": {
  "kernelspec": {
   "display_name": "Python 3 (ipykernel)",
   "language": "python",
   "name": "python3"
  },
  "language_info": {
   "codemirror_mode": {
    "name": "ipython",
    "version": 3
   },
   "file_extension": ".py",
   "mimetype": "text/x-python",
   "name": "python",
   "nbconvert_exporter": "python",
   "pygments_lexer": "ipython3",
   "version": "3.13.5"
  }
 },
 "nbformat": 4,
 "nbformat_minor": 5
}
